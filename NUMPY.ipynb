{
  "cells": [
    {
      "cell_type": "code",
      "execution_count": null,
      "metadata": {
        "id": "xW1H72LgoTMf",
        "colab": {
          "base_uri": "https://localhost:8080/"
        },
        "outputId": "ccdd9c75-4105-48e3-e813-08a82cb9b961"
      },
      "outputs": [
        {
          "output_type": "stream",
          "name": "stdout",
          "text": [
            "[1 2 3 4 5]\n"
          ]
        }
      ],
      "source": [
        "import numpy as np\n",
        "# creating arrays\n",
        "arr = np.array([1,2,3,4,5], dtype=int)\n",
        "print(arr)"
      ]
    },
    {
      "cell_type": "code",
      "source": [
        "zeros_arr = np.zeros((3, 3), dtype=int)\n",
        "print(zeros_arr)\n",
        "ones_arr = np.ones((2,2), dtype=int)\n",
        "print(ones_arr)"
      ],
      "metadata": {
        "colab": {
          "base_uri": "https://localhost:8080/"
        },
        "id": "vGWelbn6quN4",
        "outputId": "5d02d541-0358-4863-e86f-40f8ca21021a"
      },
      "execution_count": null,
      "outputs": [
        {
          "output_type": "stream",
          "name": "stdout",
          "text": [
            "[[0 0 0]\n",
            " [0 0 0]\n",
            " [0 0 0]]\n",
            "[[1 1]\n",
            " [1 1]]\n"
          ]
        }
      ]
    },
    {
      "cell_type": "code",
      "source": [
        "arange_arr = np.arange(0,995,5)\n",
        "print(arange_arr)\n"
      ],
      "metadata": {
        "colab": {
          "base_uri": "https://localhost:8080/"
        },
        "id": "i9QZEpd1sOXC",
        "outputId": "3a86028b-010c-4ac8-d7e7-6e18590d172d"
      },
      "execution_count": null,
      "outputs": [
        {
          "output_type": "stream",
          "name": "stdout",
          "text": [
            "[  0   5  10  15  20  25  30  35  40  45  50  55  60  65  70  75  80  85\n",
            "  90  95 100 105 110 115 120 125 130 135 140 145 150 155 160 165 170 175\n",
            " 180 185 190 195 200 205 210 215 220 225 230 235 240 245 250 255 260 265\n",
            " 270 275 280 285 290 295 300 305 310 315 320 325 330 335 340 345 350 355\n",
            " 360 365 370 375 380 385 390 395 400 405 410 415 420 425 430 435 440 445\n",
            " 450 455 460 465 470 475 480 485 490 495 500 505 510 515 520 525 530 535\n",
            " 540 545 550 555 560 565 570 575 580 585 590 595 600 605 610 615 620 625\n",
            " 630 635 640 645 650 655 660 665 670 675 680 685 690 695 700 705 710 715\n",
            " 720 725 730 735 740 745 750 755 760 765 770 775 780 785 790 795 800 805\n",
            " 810 815 820 825 830 835 840 845 850 855 860 865 870 875 880 885 890 895\n",
            " 900 905 910 915 920 925 930 935 940 945 950 955 960 965 970 975 980 985\n",
            " 990]\n"
          ]
        }
      ]
    },
    {
      "cell_type": "markdown",
      "source": [],
      "metadata": {
        "id": "NksJaieah4vl"
      }
    },
    {
      "cell_type": "markdown",
      "source": [
        "NO.OF ROWS BECOME NO.OF GROUP\n",
        "column become rows\n",
        "group become column"
      ],
      "metadata": {
        "id": "D0saqI-3h7Au"
      }
    },
    {
      "cell_type": "code",
      "source": [
        "# Array manipulation\n",
        "reshaped_arr = arr.reshaped(2,3,5)\n",
        "print(reshaped_arr)\n",
        "print(np.dstack)"
      ],
      "metadata": {
        "colab": {
          "base_uri": "https://localhost:8080/",
          "height": 193
        },
        "id": "NmDxd_WJsn0F",
        "outputId": "1ddb2a00-501d-4449-f3d1-50bb40a4bf57"
      },
      "execution_count": null,
      "outputs": [
        {
          "output_type": "error",
          "ename": "AttributeError",
          "evalue": "'numpy.ndarray' object has no attribute 'reshaped'",
          "traceback": [
            "\u001b[0;31m---------------------------------------------------------------------------\u001b[0m",
            "\u001b[0;31mAttributeError\u001b[0m                            Traceback (most recent call last)",
            "\u001b[0;32m<ipython-input-14-2d1317eab452>\u001b[0m in \u001b[0;36m<cell line: 2>\u001b[0;34m()\u001b[0m\n\u001b[1;32m      1\u001b[0m \u001b[0;31m# Array manipulation\u001b[0m\u001b[0;34m\u001b[0m\u001b[0;34m\u001b[0m\u001b[0m\n\u001b[0;32m----> 2\u001b[0;31m \u001b[0mreshaped_arr\u001b[0m \u001b[0;34m=\u001b[0m \u001b[0marr\u001b[0m\u001b[0;34m.\u001b[0m\u001b[0mreshaped\u001b[0m\u001b[0;34m(\u001b[0m\u001b[0;36m2\u001b[0m\u001b[0;34m,\u001b[0m\u001b[0;36m3\u001b[0m\u001b[0;34m,\u001b[0m\u001b[0;36m5\u001b[0m\u001b[0;34m)\u001b[0m\u001b[0;34m\u001b[0m\u001b[0;34m\u001b[0m\u001b[0m\n\u001b[0m\u001b[1;32m      3\u001b[0m \u001b[0mprint\u001b[0m\u001b[0;34m(\u001b[0m\u001b[0mreshaped_arr\u001b[0m\u001b[0;34m)\u001b[0m\u001b[0;34m\u001b[0m\u001b[0;34m\u001b[0m\u001b[0m\n\u001b[1;32m      4\u001b[0m \u001b[0mprint\u001b[0m\u001b[0;34m(\u001b[0m\u001b[0mnp\u001b[0m\u001b[0;34m.\u001b[0m\u001b[0mdstack\u001b[0m\u001b[0;34m)\u001b[0m\u001b[0;34m\u001b[0m\u001b[0;34m\u001b[0m\u001b[0m\n",
            "\u001b[0;31mAttributeError\u001b[0m: 'numpy.ndarray' object has no attribute 'reshaped'"
          ]
        }
      ]
    },
    {
      "cell_type": "code",
      "source": [
        "sliced_arr = arr[2:4]\n",
        "print(sliced_arr)"
      ],
      "metadata": {
        "id": "tX8_JXVdtFEc"
      },
      "execution_count": null,
      "outputs": []
    },
    {
      "cell_type": "code",
      "source": [
        "a=np.array([1,2,3,4,5,6,7,8])\n",
        "b =a.T\n",
        "print(b)\n",
        "b=np.split(a,4)\n",
        "print(b)"
      ],
      "metadata": {
        "id": "O6t1h5_ttzuJ"
      },
      "execution_count": null,
      "outputs": []
    },
    {
      "cell_type": "code",
      "source": [
        "      import numpy as np\n",
        "      a = np.array([[1,2],[3,4]])\n",
        "      b = np.array([[5,6],[7,8]])\n",
        "      c=np.dot(a,b)\n",
        "      print(c)\n",
        "      d = np.linalg.eig(c)\n",
        "      print(d)"
      ],
      "metadata": {
        "id": "Vtzt7D-zuyUa"
      },
      "execution_count": null,
      "outputs": []
    },
    {
      "source": [
        "data = np.loadtxt(\"/content/drive/MyDrive/dataset/DAP.txt\",dtype=int)\n",
        "d = np.savetxt(\"/content/drive/MyDrive/dataset/DAP.txt\",data)\n",
        "print(d)\n",
        "print(data)"
      ],
      "cell_type": "code",
      "metadata": {
        "id": "05n6Tf1TxbVu"
      },
      "execution_count": null,
      "outputs": []
    },
    {
      "cell_type": "code",
      "source": [
        "from google.colab import drive\n",
        "drive.mount('/content/drive')"
      ],
      "metadata": {
        "id": "CMLxwrsy0MFl"
      },
      "execution_count": null,
      "outputs": []
    },
    {
      "cell_type": "code",
      "source": [
        "import numpy as np\n",
        "arange_ar=np.arange(0,1000,5)\n",
        "print(arange_ar)\n",
        "data=np.savetxt(\"/content/drive/MyDrive/dataset/DAP.txt\",arange_ar)"
      ],
      "metadata": {
        "id": "LaOHUZcX0kK-"
      },
      "execution_count": null,
      "outputs": []
    },
    {
      "cell_type": "code",
      "source": [
        "a=np.random.rand()\n",
        "print(a)"
      ],
      "metadata": {
        "id": "Nn8BT_QP0wR1"
      },
      "execution_count": null,
      "outputs": []
    },
    {
      "cell_type": "code",
      "source": [
        "a=np.random.randint(1,1000)\n",
        "print(a)"
      ],
      "metadata": {
        "id": "DWdW6Bpc0017"
      },
      "execution_count": null,
      "outputs": []
    },
    {
      "cell_type": "code",
      "source": [
        "a=np.array([[1,2],[3,4]])\n",
        "print(type(a))\n",
        "print(a.ndim)\n",
        "print(a.shape)\n"
      ],
      "metadata": {
        "id": "x5JxRLap1KXt"
      },
      "execution_count": null,
      "outputs": []
    },
    {
      "cell_type": "code",
      "source": [
        "a=np.linspace(8,20,5)\n",
        "print(a)"
      ],
      "metadata": {
        "id": "2Z-K3mPg1LUe"
      },
      "execution_count": null,
      "outputs": []
    },
    {
      "cell_type": "code",
      "source": [
        "arange_ar=np.arange(24).reshape(3,2,4)\n",
        "print(arange_ar)"
      ],
      "metadata": {
        "id": "dIdyCGBZ1Oun"
      },
      "execution_count": null,
      "outputs": []
    },
    {
      "cell_type": "code",
      "source": [
        "a=np.array([[1,2],[3,4]])\n",
        "b=np.array([[4,3],[2,1]])\n",
        "print(a*b)\n",
        "print(a@b)\n",
        "print(np.dot(a,b))"
      ],
      "metadata": {
        "id": "PquNOWJU1SlO"
      },
      "execution_count": null,
      "outputs": []
    },
    {
      "cell_type": "code",
      "source": [
        "from numpy import random"
      ],
      "metadata": {
        "id": "DV0Lf1ZC1XF8"
      },
      "execution_count": null,
      "outputs": []
    },
    {
      "cell_type": "code",
      "source": [
        "a=np.ones([2,3],dtype=int)\n",
        "print(a)\n",
        "print(a.sum())\n",
        "print(a.sum(axis=1))\n",
        "print(a.sum(axis=0))"
      ],
      "metadata": {
        "id": "XAg7p4G81cri"
      },
      "execution_count": null,
      "outputs": []
    },
    {
      "cell_type": "code",
      "source": [
        "a=np.floor(np.random.random([2,12]))\n",
        "print(a)"
      ],
      "metadata": {
        "id": "3niFx1j_1lCO"
      },
      "execution_count": null,
      "outputs": []
    },
    {
      "cell_type": "code",
      "source": [
        "a=np.ceil(np.random.random((2,12)))\n",
        "print(a)"
      ],
      "metadata": {
        "id": "LIVRdYFg1oCp"
      },
      "execution_count": null,
      "outputs": []
    },
    {
      "cell_type": "code",
      "source": [
        "a=np.array([[1,4],[5,8]])\n",
        "print(a)\n",
        "print(a.max())\n",
        "print(a.min())\n",
        "print(a.max(axis=1))\n",
        "print(a.max(axis=0))"
      ],
      "metadata": {
        "id": "fHJkkZLb1qmp"
      },
      "execution_count": null,
      "outputs": []
    },
    {
      "cell_type": "code",
      "source": [
        "a=np.array([[1,4],[5,8]])\n",
        "print(a)\n",
        "print(a.cumsum(axis=1))\n",
        "print(a.cumsum(axis=0))\n",
        "print(a.cumsum())"
      ],
      "metadata": {
        "id": "A3-2H_pY1ulV"
      },
      "execution_count": null,
      "outputs": []
    },
    {
      "cell_type": "code",
      "source": [
        "a=np.array([[1,4,5,8]])\n",
        "print(a)\n",
        "print(a.cumsum())"
      ],
      "metadata": {
        "id": "myI32jZu1zZz"
      },
      "execution_count": null,
      "outputs": []
    },
    {
      "cell_type": "code",
      "source": [
        "a=np.array([1,2,3,4,5,6])\n",
        "print(a.resize(3,2))\n",
        "print(a)\n",
        "print(a.shape)"
      ],
      "metadata": {
        "colab": {
          "base_uri": "https://localhost:8080/"
        },
        "id": "yA-EjyCc12ve",
        "outputId": "95c2f2e2-fd0e-4fc5-f3b5-a23cd56f23cb"
      },
      "execution_count": null,
      "outputs": [
        {
          "output_type": "stream",
          "name": "stdout",
          "text": [
            "None\n",
            "[[1 2]\n",
            " [3 4]\n",
            " [5 6]]\n",
            "(3, 2)\n"
          ]
        }
      ]
    },
    {
      "cell_type": "code",
      "source": [
        "a=np.array([1,2,3,4,5,6])\n",
        "print(a.resize(2,3))\n",
        "b=np.array([6,5,4,3,2,1])\n",
        "print(b.resize(2,3))\n",
        "print(np.vstack((a,b)))235\n",
        "print(np.hstack((a,b)))"
      ],
      "metadata": {
        "colab": {
          "base_uri": "https://localhost:8080/",
          "height": 106
        },
        "id": "iyvOeqBq145D",
        "outputId": "a064d617-8af0-459f-8e2f-dcf37b44b186"
      },
      "execution_count": null,
      "outputs": [
        {
          "output_type": "error",
          "ename": "SyntaxError",
          "evalue": "invalid syntax (<ipython-input-36-3e9a646fd967>, line 5)",
          "traceback": [
            "\u001b[0;36m  File \u001b[0;32m\"<ipython-input-36-3e9a646fd967>\"\u001b[0;36m, line \u001b[0;32m5\u001b[0m\n\u001b[0;31m    print(np.vstack((a,b)))235\u001b[0m\n\u001b[0m                           ^\u001b[0m\n\u001b[0;31mSyntaxError\u001b[0m\u001b[0;31m:\u001b[0m invalid syntax\n"
          ]
        }
      ]
    },
    {
      "cell_type": "code",
      "source": [
        "a=np.arange(30).reshape(2,3,5)\n",
        "print(a)\n",
        "print(np.dstack(a))"
      ],
      "metadata": {
        "colab": {
          "base_uri": "https://localhost:8080/"
        },
        "id": "sCp_kXuu1-fu",
        "outputId": "a90a1135-41e0-4f47-e2b9-c925ccc6aa0e"
      },
      "execution_count": null,
      "outputs": [
        {
          "output_type": "stream",
          "name": "stdout",
          "text": [
            "[[[ 0  1  2  3  4]\n",
            "  [ 5  6  7  8  9]\n",
            "  [10 11 12 13 14]]\n",
            "\n",
            " [[15 16 17 18 19]\n",
            "  [20 21 22 23 24]\n",
            "  [25 26 27 28 29]]]\n",
            "[[[ 0 15]\n",
            "  [ 1 16]\n",
            "  [ 2 17]\n",
            "  [ 3 18]\n",
            "  [ 4 19]]\n",
            "\n",
            " [[ 5 20]\n",
            "  [ 6 21]\n",
            "  [ 7 22]\n",
            "  [ 8 23]\n",
            "  [ 9 24]]\n",
            "\n",
            " [[10 25]\n",
            "  [11 26]\n",
            "  [12 27]\n",
            "  [13 28]\n",
            "  [14 29]]]\n"
          ]
        }
      ]
    },
    {
      "cell_type": "markdown",
      "source": [
        "-->No of rows becomes no of group -->Column becomes rows -->Group becomes coloumns"
      ],
      "metadata": {
        "id": "_7HVqc_r2G88"
      }
    },
    {
      "cell_type": "code",
      "source": [
        "import numpy as np\n",
        "a1= np.eye(4)\n",
        "print(a1)\n"
      ],
      "metadata": {
        "colab": {
          "base_uri": "https://localhost:8080/"
        },
        "id": "07SOiF-EZpom",
        "outputId": "9c0ce298-cfc5-47ff-c4b4-04e3f04d2869"
      },
      "execution_count": null,
      "outputs": [
        {
          "output_type": "stream",
          "name": "stdout",
          "text": [
            "[[1. 0. 0. 0.]\n",
            " [0. 1. 0. 0.]\n",
            " [0. 0. 1. 0.]\n",
            " [0. 0. 0. 1.]]\n"
          ]
        }
      ]
    },
    {
      "cell_type": "code",
      "source": [
        "import numpy as np\n",
        "a1 = np.full((2,2),3)\n",
        "print(a1)\n",
        "print(a1.itemsize)\n"
      ],
      "metadata": {
        "colab": {
          "base_uri": "https://localhost:8080/"
        },
        "id": "Nlj3b-TEaMhf",
        "outputId": "8cb92ab4-04f6-4c89-8367-fd56bb7f62a7"
      },
      "execution_count": null,
      "outputs": [
        {
          "output_type": "stream",
          "name": "stdout",
          "text": [
            "[[3 3]\n",
            " [3 3]]\n",
            "8\n"
          ]
        }
      ]
    },
    {
      "cell_type": "code",
      "source": [
        "x=[1,2,3]\n",
        "a=np.asarray(x)\n",
        "print(a)\n"
      ],
      "metadata": {
        "colab": {
          "base_uri": "https://localhost:8080/"
        },
        "id": "lx03rdAcamM0",
        "outputId": "52a954e2-42bb-41a6-f6b0-0f61d8e27746"
      },
      "execution_count": null,
      "outputs": [
        {
          "output_type": "stream",
          "name": "stdout",
          "text": [
            "[1 2 3]\n"
          ]
        }
      ]
    },
    {
      "cell_type": "code",
      "source": [
        "x=np.array([1,4,0], float)\n",
        "y=np.array([2,2,1], float)\n",
        "print(np.inner(x,y))\n",
        "print(np.outer(x,y))\n",
        "print(np.cross(x,y))"
      ],
      "metadata": {
        "colab": {
          "base_uri": "https://localhost:8080/"
        },
        "id": "w2pI0HnTbKX4",
        "outputId": "a475b440-2118-41d6-ef39-f7f38c99b489"
      },
      "execution_count": null,
      "outputs": [
        {
          "output_type": "stream",
          "name": "stdout",
          "text": [
            "10.0\n",
            "[[2. 2. 1.]\n",
            " [8. 8. 4.]\n",
            " [0. 0. 0.]]\n",
            "[ 4. -1. -6.]\n"
          ]
        }
      ]
    },
    {
      "cell_type": "markdown",
      "source": [
        "create an one dimensional array"
      ],
      "metadata": {
        "id": "08nlY9d8dIiR"
      }
    },
    {
      "cell_type": "code",
      "source": [
        "x=np.array([1.1,4.3,0.8,2.6,3.3,5.5,7.2],float)\n",
        "print(np.rint(x))"
      ],
      "metadata": {
        "colab": {
          "base_uri": "https://localhost:8080/"
        },
        "id": "9SWe8zUudn6j",
        "outputId": "e60677be-9e6b-4ddc-833f-0d314968cb8e"
      },
      "execution_count": null,
      "outputs": [
        {
          "output_type": "stream",
          "name": "stdout",
          "text": [
            "[1. 4. 1. 3. 3. 6. 7.]\n"
          ]
        }
      ]
    },
    {
      "cell_type": "code",
      "source": [
        "a=np.array([1,2,3,4,5])\n",
        "b=np.array([6,7,8,9,1])\n",
        "print(np.true_divide(a,b))"
      ],
      "metadata": {
        "colab": {
          "base_uri": "https://localhost:8080/"
        },
        "id": "XlnRdjLdng7S",
        "outputId": "7db8a0cf-ed4d-4d0b-d60e-060d24502326"
      },
      "execution_count": null,
      "outputs": [
        {
          "output_type": "stream",
          "name": "stdout",
          "text": [
            "[0.16666667 0.28571429 0.375      0.44444444 5.        ]\n"
          ]
        }
      ]
    },
    {
      "cell_type": "code",
      "source": [
        "a=np.array([1,1,2,2,3,3,4,4])\n",
        "print(np.unique(a))"
      ],
      "metadata": {
        "colab": {
          "base_uri": "https://localhost:8080/"
        },
        "id": "vmRAHPnZnsgy",
        "outputId": "1761af20-7dd9-4729-afde-92f4e99c0f4c"
      },
      "execution_count": null,
      "outputs": [
        {
          "output_type": "stream",
          "name": "stdout",
          "text": [
            "[1 2 3 4]\n"
          ]
        }
      ]
    },
    {
      "cell_type": "code",
      "source": [
        "a=np.array([[1,7],[2,4]])\n",
        "b=np.array([[1,6],[5,8]])\n",
        "print(np.union1d(a,b))\n",
        "print(np.intersect1d(a,b))\n",
        "print(np.setdiff1d(a,b))"
      ],
      "metadata": {
        "colab": {
          "base_uri": "https://localhost:8080/"
        },
        "id": "wV_Ny9pqnzua",
        "outputId": "2399f018-6713-4864-ecd1-41bac2ae449e"
      },
      "execution_count": null,
      "outputs": [
        {
          "output_type": "stream",
          "name": "stdout",
          "text": [
            "[1 2 4 5 6 7 8]\n",
            "[1]\n",
            "[2 4 7]\n"
          ]
        }
      ]
    },
    {
      "cell_type": "code",
      "source": [
        "a=8\n",
        "b=6\n",
        "c=np.hypot(a,b)\n",
        "print(c)\n",
        "print(np.sin(0))"
      ],
      "metadata": {
        "colab": {
          "base_uri": "https://localhost:8080/"
        },
        "id": "pjO0itlvn63G",
        "outputId": "41d3f18e-0991-4abf-e212-a381e276e1d8"
      },
      "execution_count": null,
      "outputs": [
        {
          "output_type": "stream",
          "name": "stdout",
          "text": [
            "10.0\n",
            "0.0\n"
          ]
        }
      ]
    },
    {
      "cell_type": "code",
      "source": [
        "a=np.array([10,21,30,40,50,60])\n",
        "b=np.array([20,21,2,20,25,25])\n",
        "c=np.divmod(a,b)\n",
        "print(c)"
      ],
      "metadata": {
        "colab": {
          "base_uri": "https://localhost:8080/"
        },
        "id": "Woro2Poxn-Yu",
        "outputId": "0612dfa3-aa16-419c-c2a9-b8dc333eb0dd"
      },
      "execution_count": null,
      "outputs": [
        {
          "output_type": "stream",
          "name": "stdout",
          "text": [
            "(array([ 0,  1, 15,  2,  2,  2]), array([10,  0,  0,  0,  0, 10]))\n"
          ]
        }
      ]
    },
    {
      "cell_type": "code",
      "source": [
        "a=np.array([10,21,30,40,50,60])\n",
        "b=np.array([20,21,2,20,25,25])\n",
        "print(np.mod(a,b))"
      ],
      "metadata": {
        "colab": {
          "base_uri": "https://localhost:8080/"
        },
        "id": "DvR8PD5UoFFU",
        "outputId": "6a0a4393-992a-478e-a410-10fdf564d024"
      },
      "execution_count": null,
      "outputs": [
        {
          "output_type": "stream",
          "name": "stdout",
          "text": [
            "[10  0  0  0  0 10]\n"
          ]
        }
      ]
    },
    {
      "cell_type": "code",
      "source": [
        "a=np.array([10,21,30,40,50,60])\n",
        "b=np.array([20,21,2,20,25,25])\n",
        "print(np.divide(a,b))"
      ],
      "metadata": {
        "colab": {
          "base_uri": "https://localhost:8080/"
        },
        "id": "oLLcfQlNoHwW",
        "outputId": "d63b6e9f-dbe3-484b-8f07-36dc4436e312"
      },
      "execution_count": null,
      "outputs": [
        {
          "output_type": "stream",
          "name": "stdout",
          "text": [
            "[ 0.5  1.  15.   2.   2.   2.4]\n"
          ]
        }
      ]
    },
    {
      "cell_type": "code",
      "source": [
        "a=np.array([10,21,30,40,50,60])\n",
        "b=np.array([20,21,2,20,25,25])\n",
        "print(np.multiply(a,b))"
      ],
      "metadata": {
        "colab": {
          "base_uri": "https://localhost:8080/"
        },
        "id": "NRoEj3iKoNUs",
        "outputId": "ecaac349-905e-4a39-f674-4d15f37e3065"
      },
      "execution_count": null,
      "outputs": [
        {
          "output_type": "stream",
          "name": "stdout",
          "text": [
            "[ 200  441   60  800 1250 1500]\n"
          ]
        }
      ]
    },
    {
      "cell_type": "code",
      "source": [
        "a=np.array([10,21,30,40,50,60])\n",
        "b=np.array([20,21,2,20,25,25])\n",
        "print(np.matmul(a,b))"
      ],
      "metadata": {
        "colab": {
          "base_uri": "https://localhost:8080/"
        },
        "id": "WEFOvJ5NoQVT",
        "outputId": "7981fabb-faed-42c9-ce45-b3787ff783be"
      },
      "execution_count": null,
      "outputs": [
        {
          "output_type": "stream",
          "name": "stdout",
          "text": [
            "4251\n"
          ]
        }
      ]
    },
    {
      "cell_type": "code",
      "source": [
        "from numpy import random\n",
        "x=random.normal(size=(2,3))\n",
        "print(x)"
      ],
      "metadata": {
        "colab": {
          "base_uri": "https://localhost:8080/"
        },
        "id": "nsPJp1QkoVfL",
        "outputId": "c166da0f-01e1-466b-b267-84ecaa2dcd22"
      },
      "execution_count": null,
      "outputs": [
        {
          "output_type": "stream",
          "name": "stdout",
          "text": [
            "[[-0.54689092 -0.95034309  0.64344699]\n",
            " [-0.12655881  1.57481901  0.79306389]]\n"
          ]
        }
      ]
    },
    {
      "cell_type": "code",
      "source": [
        "from numpy import random\n",
        "x=random.normal(loc=1,scale=2,size=(2,3))\n",
        "print(x)"
      ],
      "metadata": {
        "colab": {
          "base_uri": "https://localhost:8080/"
        },
        "id": "GYmgFnmMoZP2",
        "outputId": "13f12c07-9273-4691-f26d-dc591d4c02be"
      },
      "execution_count": null,
      "outputs": [
        {
          "output_type": "stream",
          "name": "stdout",
          "text": [
            "[[-0.76354685  6.302158    1.44089115]\n",
            " [-0.73945134 -0.86888036  0.44211128]]\n"
          ]
        }
      ]
    },
    {
      "cell_type": "markdown",
      "source": [],
      "metadata": {
        "id": "p_d4ykclohyH"
      }
    },
    {
      "cell_type": "code",
      "source": [
        "from numpy import random\n",
        "x=random.binomial(n=12,p=0.5,size=10)#n=no of trails;p=probability\n",
        "print(x)"
      ],
      "metadata": {
        "colab": {
          "base_uri": "https://localhost:8080/"
        },
        "id": "CuUC5gvGoj0X",
        "outputId": "1401b76c-af05-4cca-c11e-4178e0d1d33c"
      },
      "execution_count": null,
      "outputs": [
        {
          "output_type": "stream",
          "name": "stdout",
          "text": [
            "[ 7  5  7  5  7  5  8  6 10  5]\n"
          ]
        }
      ]
    },
    {
      "cell_type": "markdown",
      "source": [],
      "metadata": {
        "id": "1wXN0tSuogNv"
      }
    },
    {
      "cell_type": "code",
      "source": [
        "from numpy import random\n",
        "x=random.poisson(lam=2,size=10)\n",
        "print(x)"
      ],
      "metadata": {
        "id": "o-HOXrzAobro",
        "colab": {
          "base_uri": "https://localhost:8080/"
        },
        "outputId": "b7c0d0f1-7c3c-4a6b-bb70-b1113b8fe391"
      },
      "execution_count": null,
      "outputs": [
        {
          "output_type": "stream",
          "name": "stdout",
          "text": [
            "[1 2 2 1 1 0 1 2 2 1]\n"
          ]
        }
      ]
    },
    {
      "cell_type": "code",
      "source": [
        "from numpy import random\n",
        "x=random.choice([1,2,3,4,5])\n",
        "print(x)"
      ],
      "metadata": {
        "colab": {
          "base_uri": "https://localhost:8080/"
        },
        "id": "otyT7To_olYw",
        "outputId": "d6d5f11b-aeb6-4e80-c2ce-2ca679a804f4"
      },
      "execution_count": null,
      "outputs": [
        {
          "output_type": "stream",
          "name": "stdout",
          "text": [
            "1\n"
          ]
        }
      ]
    },
    {
      "cell_type": "code",
      "source": [
        "from numpy import random\n",
        "a=(random.choice([3,5],p=[0.5,0.5],size=(3,4)))\n",
        "print(a)"
      ],
      "metadata": {
        "colab": {
          "base_uri": "https://localhost:8080/"
        },
        "id": "ufsgujXQolVL",
        "outputId": "42c68b9a-84e6-43c9-ae82-05b6e185e5a3"
      },
      "execution_count": null,
      "outputs": [
        {
          "output_type": "stream",
          "name": "stdout",
          "text": [
            "[[5 3 3 5]\n",
            " [3 3 5 5]\n",
            " [5 5 3 3]]\n"
          ]
        }
      ]
    }
  ],
  "metadata": {
    "colab": {
      "provenance": []
    },
    "kernelspec": {
      "display_name": "Python 3",
      "name": "python3"
    },
    "language_info": {
      "name": "python"
    }
  },
  "nbformat": 4,
  "nbformat_minor": 0
}